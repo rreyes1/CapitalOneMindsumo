{
 "cells": [
  {
   "cell_type": "code",
   "execution_count": 20,
   "metadata": {
    "collapsed": true
   },
   "outputs": [],
   "source": [
    "import pandas as pd\n",
    "import datetime as dt\n",
    "import numpy as np\n",
    "%matplotlib inline\n",
    "\n",
    "#https://www.mindsumo.com/contests/credit-card-transactions"
   ]
  },
  {
   "cell_type": "code",
   "execution_count": 21,
   "metadata": {
    "collapsed": false
   },
   "outputs": [],
   "source": [
    "def prepare_df(path):\n",
    "    df = pd.read_csv(path)\n",
    "    new_columns = df.columns.values\n",
    "    new_columns[1] = 'SubID'\n",
    "    new_columns[2] = 'Amount'\n",
    "    new_columns[3] = 'Date'\n",
    "    df.columns = new_columns\n",
    "    df['Timestamp'] = df.Date.apply(lambda x: dt.datetime.strptime(x, \"%m/%d/%Y\"))\n",
    "    df = df.drop(['Id'],axis=1)\n",
    "    return df"
   ]
  },
  {
   "cell_type": "code",
   "execution_count": 22,
   "metadata": {
    "collapsed": false
   },
   "outputs": [],
   "source": [
    "def get_grouped_dict(df):\n",
    "    subs = df[['SubID','Timestamp']].groupby('SubID')\n",
    "    result = {}\n",
    "    for i, group in subs:\n",
    "        ID = group.SubID.unique()[0]\n",
    "        if len(group) == 1:\n",
    "            result[ID] = (0,0,0)\n",
    "        else:\n",
    "            transactions = len(group)-1\n",
    "            days = (group.iloc[transactions]['Timestamp'] - group.iloc[0]['Timestamp']).days \n",
    "            average = days / transactions\n",
    "            result[ID] = (average, days, transactions+1)\n",
    "    return result"
   ]
  },
  {
   "cell_type": "code",
   "execution_count": 23,
   "metadata": {
    "collapsed": false
   },
   "outputs": [],
   "source": [
    "def namerow(row):\n",
    "    if row.Average <= 1 and row.Average >0:\n",
    "        return 'Daily'\n",
    "    elif row.Average > 1 and row.Average <=31:\n",
    "        return 'Monthly'\n",
    "    elif row.Average >31:\n",
    "        return 'Yearly'\n",
    "    else:\n",
    "        return 'One-off'"
   ]
  },
  {
   "cell_type": "code",
   "execution_count": 26,
   "metadata": {
    "collapsed": false
   },
   "outputs": [],
   "source": [
    "def get_transaction_df(result):\n",
    "    result_df = pd.DataFrame.from_dict(result,'index')\n",
    "    result_df.columns = ['Average','Duration (Days)','Transactions']\n",
    "    result_df['Type'] = result_df.apply(namerow, axis = 1)\n",
    "    result_df.index.name = 'Subscription ID'\n",
    "    results_df.columns[0] = 'Average '\n",
    "    return result_df"
   ]
  },
  {
   "cell_type": "code",
   "execution_count": 27,
   "metadata": {
    "collapsed": false
   },
   "outputs": [
    {
     "name": "stdout",
     "output_type": "stream",
     "text": [
      "                 Average  Duration (Days)  Transactions     Type\n",
      "Subscription ID                                                 \n",
      "3159                  30             2557            85  Monthly\n",
      "3160                  30             2038            68  Monthly\n",
      "3164                   0                0             0  One-off\n",
      "3165                   1               30            31    Daily\n",
      "3168                   0                0             0  One-off\n"
     ]
    }
   ],
   "source": [
    "path = 'subscription_report.csv'\n",
    "df = prepare_df(path)\n",
    "result_dict = get_grouped_dict(df)\n",
    "results = get_transaction_df(result_dict)\n",
    "print results.head()"
   ]
  },
  {
   "cell_type": "code",
   "execution_count": 17,
   "metadata": {
    "collapsed": false
   },
   "outputs": [
    {
     "name": "stdout",
     "output_type": "stream",
     "text": [
      "                 Average  Duration (Days)  Transactions     Type\n",
      "Subscription ID                                                 \n",
      "3159                  30             2557            85  Monthly\n",
      "3160                  30             2038            68  Monthly\n",
      "3164                   0                0             0  One-off\n",
      "3165                   1               30            31    Daily\n",
      "3168                   0                0             0  One-off\n"
     ]
    }
   ],
   "source": [
    "print results.head()"
   ]
  }
 ],
 "metadata": {
  "kernelspec": {
   "display_name": "Python 2",
   "language": "python",
   "name": "python2"
  },
  "language_info": {
   "codemirror_mode": {
    "name": "ipython",
    "version": 2
   },
   "file_extension": ".py",
   "mimetype": "text/x-python",
   "name": "python",
   "nbconvert_exporter": "python",
   "pygments_lexer": "ipython2",
   "version": "2.7.9"
  }
 },
 "nbformat": 4,
 "nbformat_minor": 0
}
